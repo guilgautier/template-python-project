{
 "cells": [
  {
   "cell_type": "markdown",
   "metadata": {},
   "source": [
    "# Example notebook\n",
    "\n",
    "- GitHub https://github.com/guilgautier/template-python-project"
   ]
  },
  {
   "cell_type": "markdown",
   "metadata": {},
   "source": [
    "## Run the notebook remotely\n",
    "\n",
    "If you're running the notebook remotely, e.g. on Google Colab, your package needs to be installed in order to use it.\n",
    "\n",
    "To do this, uncomment and run one of the command below that suits best your needs."
   ]
  },
  {
   "cell_type": "code",
   "execution_count": null,
   "metadata": {},
   "outputs": [],
   "source": [
    "# Your package is on PyPI and you want to use the latest version published there\n",
    "# !pip install packagename\n",
    "# You want to use the latest version of the source code available on GitHub\n",
    "# !pip install git+https://github.com/guilgautier/template-python-project.git"
   ]
  },
  {
   "cell_type": "markdown",
   "metadata": {},
   "source": [
    "## Run the notebook locally\n",
    "\n",
    "If you're running the notebook on your local machine, please \n",
    "\n",
    "- follow the instructions provided in the [`notebooks/README.md`](https://github.com/guilgautier/template-python-project/blob/main/notebooks/) file, \n",
    "- or fallback on the instructions given in the above section [Run the notebook remotely](#run-the-notebook-remotely)."
   ]
  },
  {
   "cell_type": "markdown",
   "metadata": {},
   "source": [
    "## Play with the package\n",
    "\n",
    "Now that the package is installed, you can import it and use it."
   ]
  },
  {
   "cell_type": "markdown",
   "metadata": {},
   "source": [
    "---\n",
    "\n",
    "If you're working in development mode run the following cell to reflect changes made to the source files during the development phase."
   ]
  },
  {
   "cell_type": "code",
   "execution_count": null,
   "metadata": {},
   "outputs": [],
   "source": [
    "%load_ext autoreload\n",
    "%autoreload 2"
   ]
  },
  {
   "cell_type": "markdown",
   "metadata": {},
   "source": [
    "**Note:** After running a cell, if you modify an object, method, attribute, function, variable, etc., in the source files, you may need to rerun the cell in order to work with the up-to-date version of the code."
   ]
  },
  {
   "cell_type": "code",
   "execution_count": null,
   "metadata": {},
   "outputs": [],
   "source": [
    "from packagename import operations"
   ]
  },
  {
   "cell_type": "code",
   "execution_count": null,
   "metadata": {},
   "outputs": [],
   "source": [
    "operations.addition(4, 3)"
   ]
  }
 ],
 "metadata": {
  "interpreter": {
   "hash": "edb87c4790666808c764611b7207da5a74e3c1520d2a7059e158caf0d6a68069"
  },
  "kernelspec": {
   "display_name": "Python 3.8.5 64-bit ('.venv': poetry)",
   "name": "python3"
  },
  "language_info": {
   "codemirror_mode": {
    "name": "ipython",
    "version": 3
   },
   "file_extension": ".py",
   "mimetype": "text/x-python",
   "name": "python",
   "nbconvert_exporter": "python",
   "pygments_lexer": "ipython3",
   "version": "3.8.5"
  },
  "toc": {
   "base_numbering": 1,
   "nav_menu": {},
   "number_sections": true,
   "sideBar": true,
   "skip_h1_title": false,
   "title_cell": "Table of Contents",
   "title_sidebar": "Contents",
   "toc_cell": false,
   "toc_position": {},
   "toc_section_display": true,
   "toc_window_display": false
  }
 },
 "nbformat": 4,
 "nbformat_minor": 4
}
